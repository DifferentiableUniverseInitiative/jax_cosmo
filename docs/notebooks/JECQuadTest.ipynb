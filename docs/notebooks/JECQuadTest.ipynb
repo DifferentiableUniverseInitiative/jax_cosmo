{
 "cells": [
  {
   "cell_type": "markdown",
   "id": "9e39c3be",
   "metadata": {},
   "source": [
    "# Notebook to test JEC quadratures"
   ]
  },
  {
   "cell_type": "code",
   "execution_count": 1,
   "id": "4b7b0152",
   "metadata": {},
   "outputs": [],
   "source": [
    "%load_ext autoreload\n",
    "%autoreload 2"
   ]
  },
  {
   "cell_type": "code",
   "execution_count": 2,
   "id": "885f712e",
   "metadata": {},
   "outputs": [
    {
     "data": {
      "text/plain": [
       "'/sps/lsstcest/users/campagne/jax_cosmo_forked/docs/notebooks'"
      ]
     },
     "execution_count": 2,
     "metadata": {},
     "output_type": "execute_result"
    }
   ],
   "source": [
    "import sys\n",
    "import os\n",
    "os.getcwd()"
   ]
  },
  {
   "cell_type": "code",
   "execution_count": 3,
   "id": "f30a0841",
   "metadata": {},
   "outputs": [
    {
     "data": {
      "text/plain": [
       "'/sps/lsstcest/users/campagne/jax_cosmo_forked'"
      ]
     },
     "execution_count": 3,
     "metadata": {},
     "output_type": "execute_result"
    }
   ],
   "source": [
    "os.chdir(\"../../\")\n",
    "os.getcwd()"
   ]
  },
  {
   "cell_type": "code",
   "execution_count": 4,
   "id": "f8dbf042",
   "metadata": {},
   "outputs": [
    {
     "name": "stdout",
     "output_type": "stream",
     "text": [
      "Populating the interactive namespace from numpy and matplotlib\n"
     ]
    }
   ],
   "source": [
    "%pylab inline\n",
    "import os\n",
    "os.environ['JAX_ENABLE_X64']='True'\n",
    "import jax\n",
    "from jax_cosmo import Cosmology, background"
   ]
  },
  {
   "cell_type": "code",
   "execution_count": 5,
   "id": "fdfb8fd8",
   "metadata": {},
   "outputs": [],
   "source": [
    "# We first define jax_cosmo cosmologies\n",
    "\n",
    "cosmo_jax = Cosmology(Omega_c=0.3, Omega_b=0.05, h=0.7, sigma8 = 0.8, n_s=0.96,\n",
    "                      Omega_k=0., w0=-1., wa=0.)"
   ]
  },
  {
   "cell_type": "markdown",
   "id": "ce13a01c",
   "metadata": {},
   "source": [
    "## Comparing angular cl"
   ]
  },
  {
   "cell_type": "code",
   "execution_count": 6,
   "id": "8a3cf845",
   "metadata": {},
   "outputs": [],
   "source": [
    "from jax_cosmo.redshift import smail_nz\n",
    "\n",
    "# Let's define a redshift distribution\n",
    "# with a Smail distribution with a=1, b=2, z0=1\n",
    "nz = smail_nz(1.,2., 1.)"
   ]
  },
  {
   "cell_type": "code",
   "execution_count": 7,
   "id": "65de0674",
   "metadata": {},
   "outputs": [
    {
     "name": "stderr",
     "output_type": "stream",
     "text": [
      "WARNING:absl:No GPU/TPU found, falling back to CPU. (Set TF_CPP_MIN_LOG_LEVEL=0 and rerun for more info.)\n"
     ]
    },
    {
     "data": {
      "image/png": "[encoded data removed]",
      "text/plain": [
       "<Figure size 432x288 with 1 Axes>"
      ]
     },
     "metadata": {
      "needs_background": "light"
     },
     "output_type": "display_data"
    }
   ],
   "source": [
    "z = linspace(0,4,1024)\n",
    "plot(z, nz(z))\n",
    "xlabel(r'Redshift $z$');\n",
    "title('Normalized n(z)');"
   ]
  },
  {
   "cell_type": "code",
   "execution_count": 8,
   "id": "aa5b2e25",
   "metadata": {},
   "outputs": [],
   "source": [
    "from jax_cosmo.angular_cl import angular_cl\n",
    "from jax_cosmo import probes"
   ]
  },
  {
   "cell_type": "code",
   "execution_count": 9,
   "id": "73f8c1d7",
   "metadata": {},
   "outputs": [],
   "source": [
    "# Let's first compute some Weak Lensing cls\n",
    "tracer_jax = probes.WeakLensing([nz])\n",
    "ell = np.logspace(0.1,3)"
   ]
  },
  {
   "cell_type": "code",
   "execution_count": 10,
   "id": "ab86d866",
   "metadata": {},
   "outputs": [],
   "source": [
    "from jax_cosmo.scipy.integrate import TrapezoidalQuad,ClenshawCurtisQuad"
   ]
  },
  {
   "cell_type": "code",
   "execution_count": 11,
   "id": "4ca9be6a",
   "metadata": {},
   "outputs": [],
   "source": [
    "from jax_cosmo.angular_cl import angular_cl"
   ]
  },
  {
   "cell_type": "code",
   "execution_count": 14,
   "id": "57df3b74",
   "metadata": {},
   "outputs": [],
   "source": [
    "from jax import jit"
   ]
  },
  {
   "cell_type": "code",
   "execution_count": 17,
   "id": "727909f1",
   "metadata": {},
   "outputs": [],
   "source": [
    "# use default simpson integration\n",
    "jec_cl_jax1= angular_cl(cosmo_jax, ell, [tracer_jax])"
   ]
  },
  {
   "cell_type": "code",
   "execution_count": 18,
   "id": "381f49fb",
   "metadata": {},
   "outputs": [],
   "source": [
    "# use user Clenshaw-Curtis quadrature integration\n",
    "jec_cl_jax2= angular_cl(cosmo_jax, ell, [tracer_jax], quadInt=ClenshawCurtisQuad(50))"
   ]
  },
  {
   "cell_type": "code",
   "execution_count": 20,
   "id": "7e3629db",
   "metadata": {},
   "outputs": [],
   "source": [
    "jec_cl_jax5= angular_cl(cosmo_jax, ell, [tracer_jax], quadInt=ClenshawCurtisQuad(5))"
   ]
  },
  {
   "cell_type": "code",
   "execution_count": 21,
   "id": "d305bf27",
   "metadata": {},
   "outputs": [],
   "source": [
    "jec_cl_jax6= angular_cl(cosmo_jax, ell, [tracer_jax], quadInt=ClenshawCurtisQuad(3))"
   ]
  },
  {
   "cell_type": "code",
   "execution_count": 22,
   "id": "ccdf3c58",
   "metadata": {},
   "outputs": [],
   "source": [
    "# use user Trapezoidale quadrature integration"
   ]
  },
  {
   "cell_type": "code",
   "execution_count": 23,
   "id": "ef714ebe",
   "metadata": {},
   "outputs": [],
   "source": [
    "jec_cl_jax7= angular_cl(cosmo_jax, ell, [tracer_jax], quadInt=TrapezoidalQuad(5))"
   ]
  },
  {
   "cell_type": "code",
   "execution_count": 25,
   "id": "2004fc9b",
   "metadata": {},
   "outputs": [
    {
     "data": {
      "text/plain": [
       "Text(0, 0.5, 'Lensing angular $C_\\\\ell$')"
      ]
     },
     "execution_count": 25,
     "metadata": {},
     "output_type": "execute_result"
    },
    {
     "data": {
      "image/png": "[encoded data removed]",
      "text/plain": [
       "<Figure size 576x432 with 1 Axes>"
      ]
     },
     "metadata": {
      "needs_background": "light"
     },
     "output_type": "display_data"
    }
   ],
   "source": [
    "import matplotlib as mpl\n",
    "mpl.rcParams['font.size'] = 18\n",
    "mpl.rcParams[\"font.family\"] = \"Times New Roman\"\n",
    "\n",
    "figure(figsize=(8, 6))\n",
    "loglog(ell, jec_cl_jax1[0], '--', label='(simps)')\n",
    "loglog(ell, jec_cl_jax2[0], '--', label='(cc 50)')\n",
    "loglog(ell, jec_cl_jax5[0], '--', label='(cc 5)')\n",
    "loglog(ell, jec_cl_jax6[0], '--', label='(cc 3)')\n",
    "loglog(ell, jec_cl_jax7[0], '--', label='(trap 5)')\n",
    "grid()\n",
    "legend()\n",
    "xlabel(r'$\\ell$')\n",
    "ylabel(r'Lensing angular $C_\\ell$')"
   ]
  },
  {
   "cell_type": "code",
   "execution_count": 35,
   "id": "525c853a",
   "metadata": {},
   "outputs": [
    {
     "name": "stdout",
     "output_type": "stream",
     "text": [
      "CPU times: user 2.04 ms, sys: 0 ns, total: 2.04 ms\n",
      "Wall time: 1.44 ms\n",
      "224 ms ± 2.69 ms per loop (mean ± std. dev. of 7 runs, 100 loops each)\n"
     ]
    }
   ],
   "source": [
    "%time   jit(angular_cl)(cosmo_jax, ell, [tracer_jax])\n",
    "%timeit jit(angular_cl)(cosmo_jax, ell, [tracer_jax])"
   ]
  },
  {
   "cell_type": "code",
   "execution_count": 40,
   "id": "59045f5d",
   "metadata": {},
   "outputs": [],
   "source": [
    "@jit\n",
    "def f2():\n",
    "    return angular_cl(cosmo_jax, ell, [tracer_jax], quadInt=ClenshawCurtisQuad(5))"
   ]
  },
  {
   "cell_type": "code",
   "execution_count": 41,
   "id": "a34d9524",
   "metadata": {},
   "outputs": [
    {
     "name": "stdout",
     "output_type": "stream",
     "text": [
      "CPU times: user 12.1 s, sys: 127 ms, total: 12.2 s\n",
      "Wall time: 12.2 s\n",
      "4.9 ms ± 105 µs per loop (mean ± std. dev. of 7 runs, 100 loops each)\n"
     ]
    }
   ],
   "source": [
    "%time   f2()\n",
    "%timeit f2()"
   ]
  },
  {
   "cell_type": "code",
   "execution_count": 44,
   "id": "269596c0",
   "metadata": {},
   "outputs": [],
   "source": [
    "@jit\n",
    "def f3():\n",
    "    return angular_cl(cosmo_jax, ell, [tracer_jax], quadInt=ClenshawCurtisQuad(50))"
   ]
  },
  {
   "cell_type": "code",
   "execution_count": 45,
   "id": "34dfd13f",
   "metadata": {},
   "outputs": [
    {
     "name": "stdout",
     "output_type": "stream",
     "text": [
      "CPU times: user 12.6 s, sys: 15.3 ms, total: 12.6 s\n",
      "Wall time: 12.7 s\n",
      "31.1 ms ± 480 µs per loop (mean ± std. dev. of 7 runs, 100 loops each)\n"
     ]
    }
   ],
   "source": [
    "%time   f3()\n",
    "%timeit f3()"
   ]
  },
  {
   "cell_type": "code",
   "execution_count": null,
   "id": "1f90f960",
   "metadata": {},
   "outputs": [],
   "source": []
  }
 ],
 "metadata": {
  "kernelspec": {
   "display_name": "Anaconda3",
   "language": "python",
   "name": "anaconda3"
  },
  "language_info": {
   "codemirror_mode": {
    "name": "ipython",
    "version": 3
   },
   "file_extension": ".py",
   "mimetype": "text/x-python",
   "name": "python",
   "nbconvert_exporter": "python",
   "pygments_lexer": "ipython3",
   "version": "3.8.5"
  }
 },
 "nbformat": 4,
 "nbformat_minor": 5
}
