{
 "cells": [
  {
   "cell_type": "markdown",
   "id": "79e3e96f",
   "metadata": {},
   "source": [
    "# Notebook to test JEC quadratures"
   ]
  },
  {
   "cell_type": "code",
   "execution_count": 1,
   "id": "429a0fc2",
   "metadata": {},
   "outputs": [],
   "source": [
    "%load_ext autoreload\n",
    "%autoreload 2"
   ]
  },
  {
   "cell_type": "code",
   "execution_count": 2,
   "id": "f0069719",
   "metadata": {},
   "outputs": [
    {
     "data": {
      "text/plain": [
       "'/sps/lsstcest/users/campagne/jax_cosmo_forked/docs/notebooks'"
      ]
     },
     "execution_count": 2,
     "metadata": {},
     "output_type": "execute_result"
    }
   ],
   "source": [
    "import sys\n",
    "import os\n",
    "os.getcwd()"
   ]
  },
  {
   "cell_type": "code",
   "execution_count": 3,
   "id": "ccd84fb5",
   "metadata": {},
   "outputs": [
    {
     "data": {
      "text/plain": [
       "'/sps/lsstcest/users/campagne/jax_cosmo_forked'"
      ]
     },
     "execution_count": 3,
     "metadata": {},
     "output_type": "execute_result"
    }
   ],
   "source": [
    "os.chdir(\"../../\")\n",
    "os.getcwd()"
   ]
  },
  {
   "cell_type": "code",
   "execution_count": 4,
   "id": "7438d4a7",
   "metadata": {},
   "outputs": [
    {
     "name": "stdout",
     "output_type": "stream",
     "text": [
      "Populating the interactive namespace from numpy and matplotlib\n"
     ]
    }
   ],
   "source": [
    "%pylab inline\n",
    "import os\n",
    "os.environ['JAX_ENABLE_X64']='True'\n",
    "import jax\n",
    "from jax_cosmo import Cosmology, background"
   ]
  },
  {
   "cell_type": "code",
   "execution_count": 5,
   "id": "bbcbd9eb",
   "metadata": {},
   "outputs": [],
   "source": [
    "# We first define jax_cosmo cosmologies\n",
    "\n",
    "cosmo_jax = Cosmology(Omega_c=0.3, Omega_b=0.05, h=0.7, sigma8 = 0.8, n_s=0.96,\n",
    "                      Omega_k=0., w0=-1., wa=0.)"
   ]
  },
  {
   "cell_type": "markdown",
   "id": "694df434",
   "metadata": {},
   "source": [
    "## Comparing angular cl"
   ]
  },
  {
   "cell_type": "code",
   "execution_count": 6,
   "id": "29b23f32",
   "metadata": {},
   "outputs": [],
   "source": [
    "from jax_cosmo.redshift import smail_nz\n",
    "\n",
    "# Let's define a redshift distribution\n",
    "# with a Smail distribution with a=1, b=2, z0=1\n",
    "nz = smail_nz(1.,2., 1.)"
   ]
  },
  {
   "cell_type": "code",
   "execution_count": 7,
   "id": "da9ec1f1",
   "metadata": {},
   "outputs": [
    {
     "name": "stderr",
     "output_type": "stream",
     "text": [
      "WARNING:absl:No GPU/TPU found, falling back to CPU. (Set TF_CPP_MIN_LOG_LEVEL=0 and rerun for more info.)\n"
     ]
    },
    {
     "data": {
      "image/png": "[encoded data removed]",
      "text/plain": [
       "<Figure size 432x288 with 1 Axes>"
      ]
     },
     "metadata": {
      "needs_background": "light"
     },
     "output_type": "display_data"
    }
   ],
   "source": [
    "z = linspace(0,4,1024)\n",
    "plot(z, nz(z))\n",
    "xlabel(r'Redshift $z$');\n",
    "title('Normalized n(z)');"
   ]
  },
  {
   "cell_type": "code",
   "execution_count": 8,
   "id": "cef83a08",
   "metadata": {},
   "outputs": [],
   "source": [
    "from jax_cosmo.angular_cl import angular_cl\n",
    "from jax_cosmo import probes"
   ]
  },
  {
   "cell_type": "code",
   "execution_count": 9,
   "id": "62f5c416",
   "metadata": {},
   "outputs": [],
   "source": [
    "# Let's first compute some Weak Lensing cls\n",
    "tracer_jax = probes.WeakLensing([nz])\n",
    "ell = np.logspace(0.1,3)"
   ]
  },
  {
   "cell_type": "code",
   "execution_count": 10,
   "id": "2d0f0575",
   "metadata": {},
   "outputs": [],
   "source": [
    "cl_jax = angular_cl(cosmo_jax, ell, [tracer_jax])"
   ]
  },
  {
   "cell_type": "code",
   "execution_count": 11,
   "id": "5f177152",
   "metadata": {},
   "outputs": [],
   "source": [
    "from jax_cosmo.scipy.integrate import TrapezoidalQuad,ClenshawCurtisQuad"
   ]
  },
  {
   "cell_type": "code",
   "execution_count": 12,
   "id": "fa6f56e6",
   "metadata": {},
   "outputs": [],
   "source": [
    "from jax_cosmo.angular_cl import jec_angular_cl"
   ]
  },
  {
   "cell_type": "code",
   "execution_count": 13,
   "id": "f0dd785e",
   "metadata": {},
   "outputs": [],
   "source": [
    "# use default simpson integration\n",
    "jec_cl_jax1= jec_angular_cl(cosmo_jax, ell, [tracer_jax])"
   ]
  },
  {
   "cell_type": "code",
   "execution_count": 14,
   "id": "6a4fefce",
   "metadata": {},
   "outputs": [],
   "source": [
    "# use user Clenshaw-Curtis quadrature integration\n",
    "jec_cl_jax2= jec_angular_cl(cosmo_jax, ell, [tracer_jax], quadInt=ClenshawCurtisQuad(50))"
   ]
  },
  {
   "cell_type": "code",
   "execution_count": 15,
   "id": "23b97dc0",
   "metadata": {},
   "outputs": [],
   "source": [
    "#jec_cl_jax3= jec_angular_cl(cosmo_jax, ell, [tracer_jax], quadInt=ClenshawCurtisQuad(25))"
   ]
  },
  {
   "cell_type": "code",
   "execution_count": 16,
   "id": "6d37d951",
   "metadata": {},
   "outputs": [],
   "source": [
    "#jec_cl_jax4= jec_angular_cl(cosmo_jax, ell, [tracer_jax], quadInt=ClenshawCurtisQuad(10))"
   ]
  },
  {
   "cell_type": "code",
   "execution_count": 17,
   "id": "69fc8c6f",
   "metadata": {},
   "outputs": [],
   "source": [
    "jec_cl_jax5= jec_angular_cl(cosmo_jax, ell, [tracer_jax], quadInt=ClenshawCurtisQuad(5))"
   ]
  },
  {
   "cell_type": "code",
   "execution_count": 18,
   "id": "39149ea0",
   "metadata": {},
   "outputs": [],
   "source": [
    "jec_cl_jax6= jec_angular_cl(cosmo_jax, ell, [tracer_jax], quadInt=ClenshawCurtisQuad(3))"
   ]
  },
  {
   "cell_type": "code",
   "execution_count": 19,
   "id": "10b01795",
   "metadata": {},
   "outputs": [],
   "source": [
    "# use user Trapezoidale quadrature integration"
   ]
  },
  {
   "cell_type": "code",
   "execution_count": 20,
   "id": "8556661b",
   "metadata": {},
   "outputs": [],
   "source": [
    "jec_cl_jax7= jec_angular_cl(cosmo_jax, ell, [tracer_jax], quadInt=TrapezoidalQuad(5))"
   ]
  },
  {
   "cell_type": "code",
   "execution_count": 21,
   "id": "ddf6ea83",
   "metadata": {},
   "outputs": [
    {
     "data": {
      "text/plain": [
       "Text(0, 0.5, 'Lensing angular $C_\\\\ell$')"
      ]
     },
     "execution_count": 21,
     "metadata": {},
     "output_type": "execute_result"
    },
    {
     "name": "stderr",
     "output_type": "stream",
     "text": [
      "WARNING:matplotlib.font_manager:findfont: Font family ['Times New Roman'] not found. Falling back to DejaVu Sans.\n"
     ]
    },
    {
     "data": {
      "image/png": "[encoded data removed]",
      "text/plain": [
       "<Figure size 576x432 with 1 Axes>"
      ]
     },
     "metadata": {
      "needs_background": "light"
     },
     "output_type": "display_data"
    }
   ],
   "source": [
    "import matplotlib as mpl\n",
    "mpl.rcParams['font.size'] = 18\n",
    "mpl.rcParams[\"font.family\"] = \"Times New Roman\"\n",
    "\n",
    "figure(figsize=(8, 6))\n",
    "loglog(ell, cl_jax[0], '--', label='jax_cosmo (simps)')\n",
    "loglog(ell, jec_cl_jax1[0], '--', label='jec(simps)')\n",
    "loglog(ell, jec_cl_jax2[0], '--', label='jec (cc 50)')\n",
    "#loglog(ell, jec_cl_jax3[0], '--', label='jec (cc 25)')\n",
    "#loglog(ell, jec_cl_jax4[0], '--', label='jec (cc 10)')\n",
    "loglog(ell, jec_cl_jax5[0], '--', label='jec (cc 5)')\n",
    "loglog(ell, jec_cl_jax6[0], '--', label='jec (cc 3)')\n",
    "loglog(ell, jec_cl_jax7[0], '--', label='jec (trap 5)')\n",
    "grid()\n",
    "legend()\n",
    "xlabel(r'$\\ell$')\n",
    "ylabel(r'Lensing angular $C_\\ell$')"
   ]
  },
  {
   "cell_type": "code",
   "execution_count": 92,
   "id": "1a6e8865",
   "metadata": {},
   "outputs": [
    {
     "name": "stdout",
     "output_type": "stream",
     "text": [
      "6.92 s ± 282 ms per loop (mean ± std. dev. of 7 runs, 1 loop each)\n"
     ]
    }
   ],
   "source": [
    "%timeit jec_angular_cl(cosmo_jax, ell, [tracer_jax])"
   ]
  },
  {
   "cell_type": "code",
   "execution_count": 93,
   "id": "532e0e57",
   "metadata": {},
   "outputs": [
    {
     "name": "stdout",
     "output_type": "stream",
     "text": [
      "7.03 s ± 507 ms per loop (mean ± std. dev. of 7 runs, 1 loop each)\n"
     ]
    }
   ],
   "source": [
    "%timeit angular_cl(cosmo_jax, ell, [tracer_jax])"
   ]
  },
  {
   "cell_type": "code",
   "execution_count": 94,
   "id": "51efb1da",
   "metadata": {},
   "outputs": [
    {
     "name": "stdout",
     "output_type": "stream",
     "text": [
      "5.7 s ± 471 ms per loop (mean ± std. dev. of 7 runs, 1 loop each)\n"
     ]
    }
   ],
   "source": [
    "%timeit jec_angular_cl(cosmo_jax, ell, [tracer_jax], quadInt=ClenshawCurtisQuad(5))"
   ]
  },
  {
   "cell_type": "code",
   "execution_count": 106,
   "id": "ee4bb249",
   "metadata": {},
   "outputs": [
    {
     "name": "stdout",
     "output_type": "stream",
     "text": [
      "6.05 s ± 444 ms per loop (mean ± std. dev. of 7 runs, 1 loop each)\n"
     ]
    }
   ],
   "source": [
    "%timeit jec_angular_cl(cosmo_jax, ell, [tracer_jax], quadInt=ClenshawCurtisQuad(50))"
   ]
  },
  {
   "cell_type": "code",
   "execution_count": null,
   "id": "1857c9f9",
   "metadata": {},
   "outputs": [],
   "source": []
  }
 ],
 "metadata": {
  "kernelspec": {
   "display_name": "Anaconda3",
   "language": "python",
   "name": "anaconda3"
  },
  "language_info": {
   "codemirror_mode": {
    "name": "ipython",
    "version": 3
   },
   "file_extension": ".py",
   "mimetype": "text/x-python",
   "name": "python",
   "nbconvert_exporter": "python",
   "pygments_lexer": "ipython3",
   "version": "3.8.5"
  }
 },
 "nbformat": 4,
 "nbformat_minor": 5
}
