{
 "cells": [
  {
   "cell_type": "markdown",
   "id": "bc4d40cd",
   "metadata": {},
   "source": [
    "# Notebook to test JEC quadratures"
   ]
  },
  {
   "cell_type": "code",
   "execution_count": 14,
   "id": "cf3c2257",
   "metadata": {},
   "outputs": [
    {
     "name": "stdout",
     "output_type": "stream",
     "text": [
      "The autoreload extension is already loaded. To reload it, use:\n",
      "  %reload_ext autoreload\n"
     ]
    }
   ],
   "source": [
    "%load_ext autoreload\n",
    "%autoreload 2"
   ]
  },
  {
   "cell_type": "code",
   "execution_count": 15,
   "id": "4cb84608",
   "metadata": {},
   "outputs": [
    {
     "data": {
      "text/plain": [
       "'/sps/lsstcest/users/campagne/jax_cosmo_forked'"
      ]
     },
     "execution_count": 15,
     "metadata": {},
     "output_type": "execute_result"
    }
   ],
   "source": [
    "import sys\n",
    "import os\n",
    "os.getcwd()"
   ]
  },
  {
   "cell_type": "code",
   "execution_count": 16,
   "id": "61cbf4d8",
   "metadata": {},
   "outputs": [
    {
     "data": {
      "text/plain": [
       "'/sps/lsstcest/users'"
      ]
     },
     "execution_count": 16,
     "metadata": {},
     "output_type": "execute_result"
    }
   ],
   "source": [
    "os.chdir(\"../../\")\n",
    "os.getcwd()"
   ]
  },
  {
   "cell_type": "code",
   "execution_count": 17,
   "id": "84cccb35",
   "metadata": {},
   "outputs": [
    {
     "name": "stdout",
     "output_type": "stream",
     "text": [
      "Populating the interactive namespace from numpy and matplotlib\n"
     ]
    }
   ],
   "source": [
    "%pylab inline\n",
    "import os\n",
    "os.environ['JAX_ENABLE_X64']='True'\n",
    "import jax\n",
    "from jax_cosmo import Cosmology, background"
   ]
  },
  {
   "cell_type": "code",
   "execution_count": 18,
   "id": "f1951178",
   "metadata": {},
   "outputs": [],
   "source": [
    "# We first define jax_cosmo cosmologies\n",
    "\n",
    "cosmo_jax = Cosmology(Omega_c=0.3, Omega_b=0.05, h=0.7, sigma8 = 0.8, n_s=0.96,\n",
    "                      Omega_k=0., w0=-1., wa=0.)"
   ]
  },
  {
   "cell_type": "markdown",
   "id": "34f7ff01",
   "metadata": {},
   "source": [
    "## Comparing angular cl"
   ]
  },
  {
   "cell_type": "code",
   "execution_count": 19,
   "id": "2795e29c",
   "metadata": {},
   "outputs": [],
   "source": [
    "from jax_cosmo.redshift import smail_nz\n",
    "\n",
    "# Let's define a redshift distribution\n",
    "# with a Smail distribution with a=1, b=2, z0=1\n",
    "nz = smail_nz(1.,2., 1.)"
   ]
  },
  {
   "cell_type": "code",
   "execution_count": 20,
   "id": "21a423f6",
   "metadata": {},
   "outputs": [
    {
     "data": {
      "image/png": "[encoded data removed]",
      "text/plain": [
       "<Figure size 432x288 with 1 Axes>"
      ]
     },
     "metadata": {
      "needs_background": "light"
     },
     "output_type": "display_data"
    }
   ],
   "source": [
    "z = linspace(0,4,1024)\n",
    "plot(z, nz(z))\n",
    "xlabel(r'Redshift $z$');\n",
    "title('Normalized n(z)');"
   ]
  },
  {
   "cell_type": "code",
   "execution_count": 21,
   "id": "20d1c194",
   "metadata": {},
   "outputs": [],
   "source": [
    "from jax_cosmo.angular_cl import angular_cl\n",
    "from jax_cosmo import probes"
   ]
  },
  {
   "cell_type": "code",
   "execution_count": 22,
   "id": "5570ebd0",
   "metadata": {},
   "outputs": [],
   "source": [
    "# Let's first compute some Weak Lensing cls\n",
    "tracer_jax = probes.WeakLensing([nz])\n",
    "ell = np.logspace(0.1,3)"
   ]
  },
  {
   "cell_type": "code",
   "execution_count": 39,
   "id": "654e2a12",
   "metadata": {},
   "outputs": [],
   "source": [
    "from jax import jit"
   ]
  },
  {
   "cell_type": "code",
   "execution_count": 23,
   "id": "d4199e63",
   "metadata": {},
   "outputs": [],
   "source": [
    "from jax_cosmo.scipy.integrate import TrapezoidalQuad,ClenshawCurtisQuad"
   ]
  },
  {
   "cell_type": "code",
   "execution_count": 146,
   "id": "59749788",
   "metadata": {},
   "outputs": [],
   "source": [
    "from jax_cosmo.angular_cl import angular_cl"
   ]
  },
  {
   "cell_type": "code",
   "execution_count": 147,
   "id": "83544a31",
   "metadata": {},
   "outputs": [],
   "source": [
    "# use default simpson integration\n",
    "jec_cl_jax1= angular_cl(cosmo_jax, ell, [tracer_jax])"
   ]
  },
  {
   "cell_type": "code",
   "execution_count": 111,
   "id": "b035aba0",
   "metadata": {},
   "outputs": [
    {
     "name": "stdout",
     "output_type": "stream",
     "text": [
      "(JEC) sigmasqr: y_old, y 6.704689624683349e-06 6.698968263937865e-06 -5.7213607454840575e-09\n",
      "(JEC) sigmasqr: y_old, y 6.704689624683349e-06 6.698968263937865e-06 -5.7213607454840575e-09\n",
      "(JEC) sigmasqr: y_old, y 6.704689624683349e-06 6.698968263937865e-06 -5.7213607454840575e-09\n"
     ]
    }
   ],
   "source": [
    "# use user Clenshaw-Curtis quadrature integration\n",
    "jec_cl_jax2= angular_cl(cosmo_jax, ell, [tracer_jax], quadInt=ClenshawCurtisQuad(50))"
   ]
  },
  {
   "cell_type": "code",
   "execution_count": 150,
   "id": "8777c50b",
   "metadata": {},
   "outputs": [],
   "source": [
    "jec_cl_jax5= angular_cl(cosmo_jax, ell, [tracer_jax], quadInt=ClenshawCurtisQuad(5))"
   ]
  },
  {
   "cell_type": "code",
   "execution_count": 151,
   "id": "acdfdaf6",
   "metadata": {},
   "outputs": [],
   "source": [
    "jec_cl_jax6= angular_cl(cosmo_jax, ell, [tracer_jax], quadInt=ClenshawCurtisQuad(3))"
   ]
  },
  {
   "cell_type": "code",
   "execution_count": 114,
   "id": "05a3c718",
   "metadata": {},
   "outputs": [],
   "source": [
    "# use user Trapezoidale quadrature integration"
   ]
  },
  {
   "cell_type": "code",
   "execution_count": 149,
   "id": "6c7a6391",
   "metadata": {},
   "outputs": [],
   "source": [
    "jec_cl_jax7= angular_cl(cosmo_jax, ell, [tracer_jax], quadInt=TrapezoidalQuad(5))"
   ]
  },
  {
   "cell_type": "code",
   "execution_count": 152,
   "id": "f31204a4",
   "metadata": {},
   "outputs": [
    {
     "data": {
      "text/plain": [
       "Text(0, 0.5, 'Lensing angular $C_\\\\ell$')"
      ]
     },
     "execution_count": 152,
     "metadata": {},
     "output_type": "execute_result"
    },
    {
     "data": {
      "image/png": "[encoded data removed]",
      "text/plain": [
       "<Figure size 576x432 with 1 Axes>"
      ]
     },
     "metadata": {
      "needs_background": "light"
     },
     "output_type": "display_data"
    }
   ],
   "source": [
    "import matplotlib as mpl\n",
    "mpl.rcParams['font.size'] = 18\n",
    "mpl.rcParams[\"font.family\"] = \"Times New Roman\"\n",
    "\n",
    "figure(figsize=(8, 6))\n",
    "loglog(ell, jec_cl_jax1[0], '--', label='(simps)')\n",
    "#loglog(ell, jec_cl_jax2[0], '--', label='(cc 50)')\n",
    "loglog(ell, jec_cl_jax5[0], '--', label='(cc 5)')\n",
    "loglog(ell, jec_cl_jax6[0], '--', label='(cc 3)')\n",
    "loglog(ell, jec_cl_jax7[0], '--', label='(trap 5)')\n",
    "grid()\n",
    "legend()\n",
    "xlabel(r'$\\ell$')\n",
    "ylabel(r'Lensing angular $C_\\ell$')"
   ]
  },
  {
   "cell_type": "code",
   "execution_count": 35,
   "id": "e2b01a15",
   "metadata": {},
   "outputs": [
    {
     "name": "stdout",
     "output_type": "stream",
     "text": [
      "CPU times: user 2.04 ms, sys: 0 ns, total: 2.04 ms\n",
      "Wall time: 1.44 ms\n",
      "224 ms ± 2.69 ms per loop (mean ± std. dev. of 7 runs, 100 loops each)\n"
     ]
    }
   ],
   "source": [
    "%time   jit(angular_cl)(cosmo_jax, ell, [tracer_jax])\n",
    "%timeit jit(angular_cl)(cosmo_jax, ell, [tracer_jax])"
   ]
  },
  {
   "cell_type": "code",
   "execution_count": 40,
   "id": "23907c00",
   "metadata": {},
   "outputs": [],
   "source": [
    "@jit\n",
    "def f2():\n",
    "    return angular_cl(cosmo_jax, ell, [tracer_jax], quadInt=ClenshawCurtisQuad(5))"
   ]
  },
  {
   "cell_type": "code",
   "execution_count": 41,
   "id": "9cfc82b2",
   "metadata": {},
   "outputs": [
    {
     "name": "stdout",
     "output_type": "stream",
     "text": [
      "CPU times: user 12.1 s, sys: 127 ms, total: 12.2 s\n",
      "Wall time: 12.2 s\n",
      "4.9 ms ± 105 µs per loop (mean ± std. dev. of 7 runs, 100 loops each)\n"
     ]
    }
   ],
   "source": [
    "%time   f2()\n",
    "%timeit f2()"
   ]
  },
  {
   "cell_type": "code",
   "execution_count": 44,
   "id": "121fb6b8",
   "metadata": {},
   "outputs": [],
   "source": [
    "@jit\n",
    "def f3():\n",
    "    return angular_cl(cosmo_jax, ell, [tracer_jax], quadInt=ClenshawCurtisQuad(50))"
   ]
  },
  {
   "cell_type": "code",
   "execution_count": 45,
   "id": "44d4cef8",
   "metadata": {},
   "outputs": [
    {
     "name": "stdout",
     "output_type": "stream",
     "text": [
      "CPU times: user 12.6 s, sys: 15.3 ms, total: 12.6 s\n",
      "Wall time: 12.7 s\n",
      "31.1 ms ± 480 µs per loop (mean ± std. dev. of 7 runs, 100 loops each)\n"
     ]
    }
   ],
   "source": [
    "%time   f3()\n",
    "%timeit f3()"
   ]
  },
  {
   "cell_type": "code",
   "execution_count": null,
   "id": "626d1764",
   "metadata": {},
   "outputs": [],
   "source": []
  }
 ],
 "metadata": {
  "kernelspec": {
   "display_name": "Anaconda3",
   "language": "python",
   "name": "anaconda3"
  },
  "language_info": {
   "codemirror_mode": {
    "name": "ipython",
    "version": 3
   },
   "file_extension": ".py",
   "mimetype": "text/x-python",
   "name": "python",
   "nbconvert_exporter": "python",
   "pygments_lexer": "ipython3",
   "version": "3.8.5"
  }
 },
 "nbformat": 4,
 "nbformat_minor": 5
}
